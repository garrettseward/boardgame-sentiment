{
 "cells": [
  {
   "cell_type": "markdown",
   "metadata": {},
   "source": [
    "# Crude Model"
   ]
  },
  {
   "cell_type": "code",
   "execution_count": 4,
   "metadata": {},
   "outputs": [],
   "source": [
    "import pandas as pd\n",
    "import matplotlib.mlab as mlab\n",
    "import matplotlib.pyplot as plt\n",
    "\n",
    "# ignore\n",
    "green = '#008f41'\n",
    "plt.style.use('dark_background')\n",
    "# /ignore"
   ]
  },
  {
   "cell_type": "markdown",
   "metadata": {},
   "source": [
    "# 'Is the game great?' model\n",
    "\n",
    "This very crude model simply checks if the word 'great' is\n",
    "present in the review. If it is, we guess the rating is 8,\n",
    "otherwise it is a rating of 5."
   ]
  },
  {
   "cell_type": "code",
   "execution_count": 7,
   "metadata": {},
   "outputs": [
    {
     "data": {
      "image/png": "[encoded data removed]",
      "text/plain": [
       "<Figure size 432x288 with 1 Axes>"
      ]
     },
     "metadata": {},
     "output_type": "display_data"
    }
   ],
   "source": [
    "csv = pd.read_csv('../sample.csv')\n",
    "\n",
    "def guess_rating(val):\n",
    "    if 'great' in val:\n",
    "        return 8\n",
    "    return 5\n",
    "\n",
    "csv['prediction'] = csv.comment.apply(guess_rating)\n",
    "num_bins = 10\n",
    "\n",
    "plt.hist(csv.rating, num_bins, facecolor=green)\n",
    "plt.hist(csv.prediction, num_bins, facecolor='red', alpha=0.5)\n",
    "\n",
    "plt.title('Game Rating Prediction')\n",
    "plt.xlabel('Rating')\n",
    "plt.ylabel('Number of Reviews')\n",
    "\n",
    "plt.show()"
   ]
  },
  {
   "cell_type": "markdown",
   "metadata": {},
   "source": [
    "This crude model does not appear to be very accruate."
   ]
  },
  {
   "cell_type": "code",
   "execution_count": null,
   "metadata": {},
   "outputs": [],
   "source": [
    "# TODO: continue building out crude model(s)"
   ]
  }
 ],
 "metadata": {
  "kernelspec": {
   "display_name": "ds",
   "language": "python",
   "name": "ds"
  },
  "language_info": {
   "codemirror_mode": {
    "name": "ipython",
    "version": 3
   },
   "file_extension": ".py",
   "mimetype": "text/x-python",
   "name": "python",
   "nbconvert_exporter": "python",
   "pygments_lexer": "ipython3",
   "version": "3.7.0"
  }
 },
 "nbformat": 4,
 "nbformat_minor": 2
}
