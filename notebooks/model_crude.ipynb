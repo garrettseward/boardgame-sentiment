{
 "cells": [
  {
   "cell_type": "markdown",
   "metadata": {},
   "source": [
    "# Sentiment Prediction Model"
   ]
  },
  {
   "cell_type": "code",
   "execution_count": 14,
   "metadata": {},
   "outputs": [],
   "source": [
    "import sys\n",
    "sys.path.append('/home/g/code/ds/sentiment')\n",
    "\n",
    "from math import sqrt\n",
    "import pandas as pd\n",
    "import numpy as np\n",
    "import matplotlib.mlab as mlab\n",
    "import matplotlib.pyplot as plt\n",
    "\n",
    "from sentiment_analysis.database import engine\n",
    "from sentiment_analysis.entities import SigWordUse\n",
    "from sentiment_analysis.util import rmse\n",
    "\n",
    "green = '#008f41'\n",
    "plt.style.use('dark_background')"
   ]
  },
  {
   "cell_type": "code",
   "execution_count": 15,
   "metadata": {},
   "outputs": [],
   "source": [
    "train, test = onehot.iloc[:,3:], onehot['_rating']\n",
    "sw = pd.read_sql_table('sig_word', engine)\n",
    "weights = pd.Series(sw.median_q50.values, index=sw.word).sort_index()\n",
    "onehot = SigWordUse.onehot()"
   ]
  },
  {
   "cell_type": "code",
   "execution_count": 16,
   "metadata": {},
   "outputs": [
    {
     "data": {
      "text/plain": [
       "1.4061896254888429"
      ]
     },
     "execution_count": 16,
     "metadata": {},
     "output_type": "execute_result"
    }
   ],
   "source": [
    "Qone = train.multiply(weights)\n",
    "N_total = train.iloc[:,3:].sum(axis=1)\n",
    "predictions = Qone.sum(axis=1) / N_total\n",
    "rmse_medians = rmse(test, predictions)\n",
    "rmse_medians"
   ]
  },
  {
   "cell_type": "code",
   "execution_count": null,
   "metadata": {},
   "outputs": [],
   "source": []
  }
 ],
 "metadata": {
  "kernelspec": {
   "display_name": "sent",
   "language": "python",
   "name": "sent"
  },
  "language_info": {
   "codemirror_mode": {
    "name": "ipython",
    "version": 3
   },
   "file_extension": ".py",
   "mimetype": "text/x-python",
   "name": "python",
   "nbconvert_exporter": "python",
   "pygments_lexer": "ipython3",
   "version": "3.7.0"
  }
 },
 "nbformat": 4,
 "nbformat_minor": 2
}
