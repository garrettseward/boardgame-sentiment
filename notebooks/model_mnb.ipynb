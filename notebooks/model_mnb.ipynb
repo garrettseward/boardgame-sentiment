{
 "cells": [
  {
   "cell_type": "markdown",
   "metadata": {},
   "source": [
    "# Multinomial Naive Bayes Model"
   ]
  },
  {
   "cell_type": "code",
   "execution_count": 24,
   "metadata": {},
   "outputs": [],
   "source": [
    "import pandas as pd\n",
    "from sklearn.feature_extraction.text import CountVectorizer\n",
    "from sklearn.model_selection import train_test_split\n",
    "from sklearn.naive_bayes import MultinomialNB\n",
    "\n",
    "csv = pd.read_csv('../sample.csv')\n",
    "csv['rating100factor'] = csv.rating.apply(lambda v: int(v) * 100)"
   ]
  },
  {
   "cell_type": "code",
   "execution_count": 25,
   "metadata": {},
   "outputs": [],
   "source": [
    "vectorizer = CountVectorizer(\n",
    "    analyzer = 'word',\n",
    "    lowercase = False\n",
    ")\n",
    "features = vectorizer.fit_transform(csv.comment.tolist())\n",
    "\n",
    "X_train, X_test, y_train, y_test = \\\n",
    "    train_test_split(\n",
    "        features.toarray(),\n",
    "        csv.rating100factor.tolist(),\n",
    "        test_size=0.30,\n",
    "        random_state=10,\n",
    "    )"
   ]
  },
  {
   "cell_type": "code",
   "execution_count": 26,
   "metadata": {},
   "outputs": [],
   "source": [
    "mnb_model = MultinomialNB()\n",
    "mnb_model = mnb_model.fit(X_train, y_train)"
   ]
  },
  {
   "cell_type": "code",
   "execution_count": 27,
   "metadata": {},
   "outputs": [
    {
     "name": "stdout",
     "output_type": "stream",
     "text": [
      "0.3058823529411765\n",
      "0.3058823529411765\n"
     ]
    }
   ],
   "source": [
    "# Now that we have a model, let's test it\n",
    "y_pred_mnb = mnb_model.predict(X_test)\n",
    "\n",
    "from sklearn.metrics import precision_score, accuracy_score\n",
    "\n",
    "print(accuracy_score(y_test, y_pred_mnb))\n",
    "print(precision_score(y_test, y_pred_mnb, average=\"micro\"))"
   ]
  },
  {
   "cell_type": "markdown",
   "metadata": {},
   "source": [
    "~69% precise"
   ]
  },
  {
   "cell_type": "code",
   "execution_count": 1,
   "metadata": {},
   "outputs": [],
   "source": [
    "# TODO: graph and continue expanding MNB model(s)"
   ]
  },
  {
   "cell_type": "code",
   "execution_count": null,
   "metadata": {},
   "outputs": [],
   "source": []
  }
 ],
 "metadata": {
  "kernelspec": {
   "display_name": "Python 3",
   "language": "python",
   "name": "python3"
  },
  "language_info": {
   "codemirror_mode": {
    "name": "ipython",
    "version": 3
   },
   "file_extension": ".py",
   "mimetype": "text/x-python",
   "name": "python",
   "nbconvert_exporter": "python",
   "pygments_lexer": "ipython3",
   "version": "3.7.0"
  }
 },
 "nbformat": 4,
 "nbformat_minor": 2
}
